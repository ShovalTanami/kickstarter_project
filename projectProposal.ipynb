{
 "cells": [
  {
   "cell_type": "markdown",
   "metadata": {},
   "source": [
    "\n",
    "# Project Proposal\n",
    "\n",
    "<br>\n",
    "\n",
    "# Kickstarter projects\n",
    "<br>\n",
    "\n",
    "### Shoval Tanami 205627920\n"
   ]
  },
  {
   "cell_type": "markdown",
   "metadata": {},
   "source": [
    "\n",
    "## Kickstarter Project\n",
    "\n",
    "Our project its about Kickstarter.\n",
    "<br>\n",
    "<u><b>Kickstarter</b></u> is a funding platform for creative projects. Everything from Lots of diverse categories:films, games, music, art, technology and more. Everything on Kickstarter must be a project with a clear goal, like making an album, a book, or a work of art.\n",
    "<br>\n",
    "In our project we are going to research a dataset about those projects in Kickstarter.\n",
    "<br>\n",
    "Our <u><b>main goal is to predict whether new projects will succeed or fail </b></u> based on existing projects. We will do it by research the dataset that include information like: name of the projects, category, number of backers and more.\n",
    "<br>\n",
    "We will create a new dataset from the original one, and try to understand the impact on project, and how will they succeed. "
   ]
  },
  {
   "cell_type": "markdown",
   "metadata": {},
   "source": [
    "\n",
    "## DataSet\n",
    "\n",
    "* We found a dataset with kickstarter projects .\n",
    "    * Link to data(https://www.kaggle.com/kemical/kickstarter-projects#ks-projects-201801.csv)\n",
    "\n",
    "* This dataset contain those columns:\n",
    "    * ID\n",
    "    * name\n",
    "    * category\n",
    "    * main_category\n",
    "    * currency\n",
    "    * deadline\n",
    "    * goal - Goal amount in project currency\n",
    "    * launched\n",
    "    * pledged - Pledged amount in the project currency\n",
    "    * state\n",
    "    * backers\n",
    "    * country\n",
    "    * usd pledged - Pledged amount in USD (conversion made by KS)\n",
    "    * usd_pledged_real - Pledged amount in USD (conversion made by fixer.io api)\n",
    "    * usd_goal_real - Goal amount in USD\n",
    "\n",
    "<br>\n",
    "\n",
    "* The dataset displays projects between the years 2009 and 2018 and contains the 378661 records during those years.\n",
    "\n",
    "<br>\n",
    "* On the original dataset we will try to answer those questions:\n",
    "\n",
    "    * Which categories achived more  backers?\n",
    "    * Does the country of origin of the entrepreneur affect the number of  backers?\n",
    "    * What's better, small goal or large goal?  \n",
    "<br>\n",
    "* For our project we will create a new datasets to get more imformation.\n",
    "    \n",
    "    * WordsDataSet - we going to create a new dataset base on the original dataset. in WordsDataSet we're going to take all the words that appear under the \"Name\" column and collect data on project names (If their name affects the chances of success ) .\n",
    "    * with this data we will trying to answer on those question.\n",
    "        * Are some special words in the project affects the chances of success?\n",
    "        * Do symbol characters help your project achieve more success?\n",
    "        * Are the number of words will help to get success? Which is better, a short or long name?\n",
    "        * Is repeating words will help the project to succeed?\n",
    "\n",
    "* These questions will help us predict the success or failure of new projects.\n",
    "    "
   ]
  },
  {
   "cell_type": "markdown",
   "metadata": {},
   "source": [
    "\n",
    "\n",
    "## Tools\n",
    "\n",
    "* On our project, we are going to use classification and clustering algorithms for predicting.\n",
    "* We will try different algorithms until we find the algorithm with the best results for those questions.\n"
   ]
  },
  {
   "cell_type": "markdown",
   "metadata": {},
   "source": [
    "\n",
    "\n",
    "## Formulate the problem\n",
    "\n",
    "* The problem is figuring out how all these questions affect success.\n",
    "* To answer these questions we will use the original dataset and additional dataset that we will create to get more information.\n",
    "   \n",
    "* In our project we are going to split our data by years.\n",
    "    * train data - 2019 to 2014. -  In this dataset we do our research .\n",
    "    * test data - 2015 to 2018. - on this dataset we will check our predict.\n",
    "\n",
    "* If in the test data we get results close to the real dataset, so we know we we've succeeded.\n",
    " \n",
    "\n"
   ]
  }
 ],
 "metadata": {
  "kernelspec": {
   "display_name": "Python 3",
   "language": "python",
   "name": "python3"
  },
  "language_info": {
   "codemirror_mode": {
    "name": "ipython",
    "version": 3
   },
   "file_extension": ".py",
   "mimetype": "text/x-python",
   "name": "python",
   "nbconvert_exporter": "python",
   "pygments_lexer": "ipython3",
   "version": "3.7.4"
  }
 },
 "nbformat": 4,
 "nbformat_minor": 4
}
